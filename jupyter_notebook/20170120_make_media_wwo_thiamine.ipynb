{
 "cells": [
  {
   "cell_type": "raw",
   "metadata": {},
   "source": [
    "# Make media w/w/o thiamine"
   ]
  },
  {
   "cell_type": "markdown",
   "metadata": {},
   "source": [
    "10/9x MOPS master mix\n",
    "\n",
    "Reagent        |      Conc | Rel Conc |    Volume\n",
    "-------------- | --------: | -------: | --------:\n",
    "MOPS buffer    |           |      10x |    100 mL\n",
    "ACGU solution  |           |      10x |    100 mL\n",
    "K₂HPO₄         |    132 mM |     100x |     10 mL\n",
    "glucose        |   20% w/v |      50x |     20 mL\n",
    "casamino acids |   10% w/v |      50x |     20 mL\n",
    "ATC            |  10 mg/mL |   10000x |    100 μL\n",
    "carb           | 100 mg/mL |    1000x |      1 mL\n",
    "chlor          |  35 mg/mL |    1000x |      1 mL\n",
    "water          |           |          | to 900 mL\n",
    "\n",
    "MOPS + thiamine\n",
    "\n",
    "Reagent        |      Conc | Rel Conc |    Volume\n",
    "-------------- | --------: | -------: | --------:\n",
    "MOPS mix       |           |    10/9x |    450 mL\n",
    "thiamine       |   78.6 mM |   157.2x |   3.18 mL\n",
    "water          |           |          | to 500 mL\n",
    "\n",
    "MOPS − thiamine\n",
    "\n",
    "Reagent        |      Conc | Rel Conc |    Volume\n",
    "-------------- | --------: | -------: | --------:\n",
    "MOPS mix       |           |    10/9x |    450 mL\n",
    "water          |           |          | to 500 mL"
   ]
  },
  {
   "cell_type": "markdown",
   "metadata": {
    "collapsed": true
   },
   "source": [
    "500 µM thiamine final"
   ]
  }
 ],
 "metadata": {
  "hide_input": false,
  "kernelspec": {
   "display_name": "Python 3",
   "language": "python",
   "name": "python3"
  },
  "language_info": {
   "codemirror_mode": {
    "name": "ipython",
    "version": 3
   },
   "file_extension": ".py",
   "mimetype": "text/x-python",
   "name": "python",
   "nbconvert_exporter": "python",
   "pygments_lexer": "ipython3",
   "version": "3.6.4"
  }
 },
 "nbformat": 4,
 "nbformat_minor": 2
}
