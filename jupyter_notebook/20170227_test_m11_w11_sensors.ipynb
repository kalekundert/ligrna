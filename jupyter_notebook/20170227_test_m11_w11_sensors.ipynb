{
 "cells": [
  {
   "cell_type": "markdown",
   "metadata": {},
   "source": [
    "# Test m11 and w11 sensors\n",
    "\n",
    "The idea behind the m11 sensors is to make variants of rxb 11,1 that either turn more on of more off.  The idea behind the w11 sensors is to better understand   The design strategy is explained in more detail in the m11 docstring.  I will start by picking a number of designs to test.  Then I'll order them, clone them by inverse PCR, and test them by flow cytometry.  In the end, I'll see if the designs modulate sensor activity in the expected ways.\n"
   ]
  },
  {
   "cell_type": "markdown",
   "metadata": {},
   "source": [
    "## Design m11 primers"
   ]
  },
  {
   "cell_type": "code",
   "execution_count": 4,
   "metadata": {
    "collapsed": false
   },
   "outputs": [
    {
     "name": "stdout",
     "output_type": "stream",
     "text": [
      "Number of oligos: 12\r\n",
      "Primer lengths: 38, 39, 38, 39, 38, 39, 39, 40, 39, 40, 39, 40\r\n",
      "\r\n",
      "Primer names (ready to copy into Elim form):\r\n",
      "M11_GA_TM_59_REV\r\n",
      "M11_GA_TM_61_FOR, M11_GH_TM_61_FOR\r\n",
      "M11_GGA_TM_59_REV\r\n",
      "M11_GGA_TM_61_FOR, M11_GGH_TM_61_FOR\r\n",
      "M11_GGH_TM_59_REV\r\n",
      "M11_GGU_TM_59_REV, M11_GGV_TM_59_REV\r\n",
      "M11_GGU_TM_61_FOR\r\n",
      "M11_GGV_TM_61_FOR\r\n",
      "M11_GH_TM_59_REV\r\n",
      "M11_GU_TM_59_REV, M11_GV_TM_59_REV\r\n",
      "M11_GU_TM_61_FOR\r\n",
      "M11_GV_TM_61_FOR\r\n",
      "\r\n",
      "Primer sequences (ready to copy into Elim form):\r\n",
      "TTCGGCTGGTATTCCActtatttcaacttgctatgctg\r\n",
      "AGGCCCTTGGCAGTCTAcgttatcaacttgaaaaagtgg\r\n",
      "TTCGGCTGGTATTCCCActtatttcaacttgctatgctg\r\n",
      "AGGCCCTTGGCAGTCCTAcgttatcaacttgaaaaagtgg\r\n",
      "TTCGGCTGGTATCCCCActtatttcaacttgctatgctg\r\n",
      "TTCGGCTGGTATACCCActtatttcaacttgctatgctg\r\n",
      "AGGCCCTTGGCAGACCTAcgttatcaacttgaaaaagtgg\r\n",
      "AGGCCCTTGGCAGGCCTAcgttatcaacttgaaaaagtgg\r\n",
      "TTCGGCTGGTATCCCActtatttcaacttgctatgctg\r\n",
      "TTCGGCTGGTATACCActtatttcaacttgctatgctg\r\n",
      "AGGCCCTTGGCAGACTAcgttatcaacttgaaaaagtgg\r\n",
      "AGGCCCTTGGCAGGCTAcgttatcaacttgaaaaagtgg\r\n"
     ]
    }
   ],
   "source": [
    "!../scripts/clone_into_sgrna.py \\\n",
    "    m11/ga \\\n",
    "    m11/gu \\\n",
    "    m11/gh \\\n",
    "    m11/gv \\\n",
    "    m11/gga \\\n",
    "    m11/ggu \\\n",
    "    m11/ggh \\\n",
    "    m11/ggv \\"
   ]
  },
  {
   "cell_type": "markdown",
   "metadata": {},
   "source": [
    "These mutations are pretty conservative.  I'm thinking that it'll be better to sample thoroughly around a sequence I know works.  That way, if none of these sequences work, I'll be more comfortable concluding that rxb 11,1 is just more fragile than I thought.  And if rxb 11,1 does work like I think, these designs should be enough to see some modulation, even if I don't necessarily hit the limits of that modulation."
   ]
  },
  {
   "cell_type": "markdown",
   "metadata": {},
   "source": [
    "## Design w11 primers"
   ]
  },
  {
   "cell_type": "code",
   "execution_count": 6,
   "metadata": {
    "collapsed": false
   },
   "outputs": [
    {
     "name": "stdout",
     "output_type": "stream",
     "text": [
      "Number of oligos: 8\r\n",
      "Primer lengths: 39, 40, 38, 39, 38, 39, 38, 39\r\n",
      "\r\n",
      "Primer names (ready to copy into Elim form):\r\n",
      "W11_1_TM_59_REV\r\n",
      "W11_1_TM_60_FOR\r\n",
      "W11_2_TM_59_REV\r\n",
      "W11_2_TM_61_FOR\r\n",
      "W11_4_TM_59_REV\r\n",
      "W11_4_TM_61_FOR\r\n",
      "W11_5_TM_59_REV\r\n",
      "W11_5_TM_61_FOR\r\n",
      "\r\n",
      "Primer sequences (ready to copy into Elim form):\r\n",
      "TTCGGCTGGTATCCCAGttatttcaacttgctatgctgt\r\n",
      "AGGCCCTTGGCAGCCTAGgttatcaacttgaaaaagtggc\r\n",
      "TTCGGCTGGTATCCCTcttatttcaacttgctatgctg\r\n",
      "AGGCCCTTGGCAGCCTTcgttatcaacttgaaaaagtgg\r\n",
      "TTCGGCTGGTATCGCActtatttcaacttgctatgctg\r\n",
      "AGGCCCTTGGCAGCGTAcgttatcaacttgaaaaagtgg\r\n",
      "TTCGGCTGGTATGCCActtatttcaacttgctatgctg\r\n",
      "AGGCCCTTGGCAGGCTAcgttatcaacttgaaaaagtgg\r\n"
     ]
    }
   ],
   "source": [
    "!../scripts/clone_into_sgrna.py \\\n",
    "    w11/1 \\\n",
    "    w11/2 \\\n",
    "    w11/4 \\\n",
    "    w11/5 \\"
   ]
  },
  {
   "cell_type": "markdown",
   "metadata": {},
   "source": [
    "## Test designs"
   ]
  },
  {
   "cell_type": "code",
   "execution_count": 1,
   "metadata": {
    "collapsed": false
   },
   "outputs": [
    {
     "name": "stdout",
     "output_type": "stream",
     "text": [
      "1. Make 1 mL overnight cultures of the designs you \r\n",
      "   want to test.\r\n",
      "\r\n",
      "2. Grow each culture with and without ligand, \r\n",
      "   while inducing Cas9:\r\n",
      "\r\n",
      "   - Subculture 4 μL of each overnight into 1 mL \r\n",
      "     apo media and 1 mL holo media.\r\n",
      "\r\n",
      "   - Grow at 37°C for 8h30\r\n",
      "\r\n",
      "3. Dilute 0.5 μL of each culture into 200 μL PBS.\r\n",
      "\r\n",
      "4. Measure the GFP and RFP fluorescence of each \r\n",
      "   culture by flow cytometry.\r\n"
     ]
    }
   ],
   "source": [
    "!../protocols/crispri_assay.py -t 8h30"
   ]
  },
  {
   "cell_type": "markdown",
   "metadata": {},
   "source": [
    "I repeated this assay on three different days (3/15, 3/17, 3/21), each time using freshly picked colonies.  I made a particular effort to grow the cells for the exact same amount of time each time, because I thought getting the time exactly right would help lower the error bars."
   ]
  },
  {
   "cell_type": "markdown",
   "metadata": {},
   "source": []
  }
 ],
 "metadata": {
  "hide_input": false,
  "kernelspec": {
   "display_name": "Python 3",
   "language": "python",
   "name": "python3"
  },
  "language_info": {
   "codemirror_mode": {
    "name": "ipython",
    "version": 3
   },
   "file_extension": ".py",
   "mimetype": "text/x-python",
   "name": "python",
   "nbconvert_exporter": "python",
   "pygments_lexer": "ipython3",
   "version": "3.6.0"
  }
 },
 "nbformat": 4,
 "nbformat_minor": 2
}
