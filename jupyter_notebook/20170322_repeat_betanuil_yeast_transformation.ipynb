{
 "cells": [
  {
   "cell_type": "markdown",
   "metadata": {},
   "source": [
    "# Repeat Betanuil yeast transformation\n",
    "\n",
    "The Betanuil ectroporation protocol semed to work pretty well last week, so I'm trying it again this week.  This time I'm going to use 12 ug of insert DNA, which is the highest amount recommended by the protocol and 12x more than I used last time.  I'm also going to plate the cells both before and after the 1h recovery, to see how much of a difference that makes."
   ]
  },
  {
   "cell_type": "markdown",
   "metadata": {},
   "source": [
    "## Mar 21, 2017 (Tuesday)"
   ]
  },
  {
   "cell_type": "markdown",
   "metadata": {},
   "source": [
    "1. Prepare 120 mL 1M sorbitol:\n",
    "   - 21.86 g sorbitol\n",
    "   - water to 120 mL\n",
    "   \n",
    "2. Reserve 5 mL 1M sorbitol (in a 15 mL falcon tube)\n",
    "\n",
    "3. Prepare 115 mL \"electroporation buffer\" with the remaining 1M sorbitol:\n",
    "\n",
    "   - 115 mL 1M sorbitol\n",
    "   - 115 uL 1M CaCl2\n",
    "   - sterile filter\n",
    "\n",
    "4. Chill the following reagants overnight in the cold room:\n",
    "\n",
    "   - 5 50 mL pipets\n",
    "   - 1 box 1000 uL pipet tips\n",
    "   - 200 mL milliQ water\n",
    "   - 115 mL \"electroporation buffer\""
   ]
  },
  {
   "cell_type": "markdown",
   "metadata": {},
   "source": [
    "## Mar 22, 2017 (Wednesday)"
   ]
  },
  {
   "cell_type": "markdown",
   "metadata": {},
   "source": [
    "1. Setup the NotI digestion to linearize 12 ug insert.  12 ug insert coresponds to 17.6 ug (5.48 uL) plasmid.  I rounded up to 6 uL.\n",
    "   \n",
    "   - 37 uL milliQ water\n",
    "   - 6 uL 3.214 ug/uL plasmid\n",
    "   - 5 uL 10x NEB CutSmart buffer\n",
    "   - 2 uL NEB 20 U/uL NotI-HF\n",
    "   - 1h at 37C, 20 min at 56C, hold at 12C\n",
    "   \n",
    "2. Inoculate 100 mL non-carmelized YPD with 2 mL overnight culture.  Based on previous experience, I initially used 4 mL overnight culture, but the OD600 ended up being ~0.52 while the protocol calls for 0.3.  I decided that was too high, so I diluted the culture in half with fresh YPD.  \n",
    "\n",
    "3. As the yeast grow, measure their OD600 every hour or so.  For each measurement, dilute the cells 20x (50 uL of cells into 950 uL fresh YPD) to stay in the linear range of the spectrophotometer.  I realized after 2h30 that the cells were being shaken at 200 rpm, slightly slower than the 225 rpm I used last time.  I decided to leave the shaking speed as it was.\n",
    "\n",
    "   - 0h00: 0.0130\n",
    "   - 1h05: 0.0159\n",
    "   - 2h30: 0.0306\n",
    "   - 3h45: 0.0527\n",
    "   - 4h30: 0.0717\n",
    "   \n",
    "4. Once the NotI digestion is complete, desalt the DNA using drop dialysis.\n",
    "\n",
    "   - Fill a petri dish about halfway (~20 mL) with milliQ water.\n",
    "   - Float a nitrocellulose membrane shiny-side up on the water.  I used tweezers to handle the membrane.  Make sure there are no air bubbles.\n",
    "   - Let the membrane sit for 5 min to allow it to completely soak with water.\n",
    "   - Pipet the entire NotI digestion reaction (50 uL) onto the center of the membrane.\n",
    "   - Dialyze for 4h.\n",
    "   - Yield: 153.3 ng/uL (nanodrop) * 55.1 uL (pipet) = 8.45 ug (5.76 ug insert)\n",
    "   - I also tried rinsing the spot left on the membrane with 50 uL fresh milliQ water.  Yield: 4.2 ng/uL.  In the future, I don't think it will be necessary to rinse.\n",
    "   \n",
    "5. The yeast were predicted to reach OD600 = 1.6 at 4h45.  I accidentally left the incubator door open for the last 15 min, but I decided to stop them at 4h45 anyway.\n",
    "\n",
    "6. Wash the cells with water and \"electroporation buffer\":\n",
    "\n",
    "  - Pellet 3270g, 4C, 5 min.\n",
    "  - Resuspend in 50 mL chilled water.\n",
    "  - Pellet 3270g, 4C, 5 min.\n",
    "  - Resuspend in 50 mL chilled water again.\n",
    "  - Pellet 3270g, 4C, 5 min.\n",
    "  - Resuspend in 50 mL electroporation buffer\"\n",
    "  \n",
    "7. Prepare 20 mL \"conditioning buffer\":\n",
    "\n",
    "  - 2 mL 1M LiOAc\n",
    "  - 200 uL 1M DTT\n",
    "  - milliQ water to 20 mL\n",
    "  \n",
    "9. Resuspend in 20 mL conditioning buffer, then incubate at 30C for 30 min.  The protocol explicitly called for shaking at 225 rpm, so at this point I adjusted the shaking speed.\n",
    "\n",
    "10. Wash the cells with \"electroporation buffer\" and bring to 1 mL.\n",
    "\n",
    "  - Pellet 3270g, 4C, 5 min.\n",
    "  - Resuspend in 50 mL \"electroporation buffer\"\n",
    "  - Pellet 3270g, 4C, 5 min.\n",
    "  - Add electroporation buffer to a final volume of 1 mL.  I had to add 600 uL.\n",
    "  \n",
    "11. Electroporate with the following parameters:\n",
    "\n",
    "  - Voltage: 2500 V\n",
    "  - Capacitance: 25 uF\n",
    "  - Resistance: 200 ohms (I took this from the pre-set S. cerevisiae protocol, since the Betanuil protocol didn't specify a resistance.)\n",
    "  - Gap length: 2 mm\n",
    "  \n",
    "  The measured exponential decay parameters were:\n",
    "  \n",
    "  - Time constant: 4.4 ms\n",
    "  - Voltage: 2473 V\n",
    "\n",
    "12. Immediately suspend cells in 10 mL 1:1 YPD:1M sorbitol, sterile-filtered using a syringe, and preincubated at 30C.\n",
    "\n",
    "13. Plate 5 5x serial dilutions immediately, transferring 10 uL cells into 40 uL LB (I meant to use YPD, but grabbed the wrong bottle) for each dilution.  Plate 15 uL of each reaction (I meant to plate 20 uL, but I messed the first plate I made and only had enough cells left to plate 15 uL for the second plate).\n",
    "\n",
    "14. Incubate at 30C with shaking at 225 rpm for 1h.\n",
    "\n",
    "15. Make 5 5x serial dilutions, transferring 10 uL cells into 40 uL YPD each time.  Plate 15 uL of each dilution to be consistent with the first set of dilutions."
   ]
  },
  {
   "cell_type": "code",
   "execution_count": 6,
   "metadata": {
    "collapsed": false
   },
   "outputs": [
    {
     "data": {
      "text/html": [
       "<table><tr><th style=\"text-align:left\">Library</th><th style=\"text-align:right\">Recover (μL)</th><th style=\"text-align:right\">Plate (μL)</th><th style=\"text-align:right\"># cfu/10³</th><th style=\"text-align:right\"># cfu/10²</th><th style=\"text-align:right\"># cfu/10²</th><th style=\"text-align:right\"># cfu/10¹</th><th style=\"text-align:right\"># cfu/10⁰</th><th style=\"text-align:right\"># Transformants</th><th style=\"text-align:right\"># Unique</th><th style=\"text-align:right\">Coverage (%)</th><th style=\"text-align:right\">Coverage (fold)</th></tr><tr><td style=\"text-align:left\">Betanuil, big colonies only, no recovery</td><td style=\"text-align:right\">10000</td><td style=\"text-align:right\">15</td><td style=\"text-align:right\">0</td><td style=\"text-align:right\">0</td><td style=\"text-align:right\">4</td><td style=\"text-align:right\">18</td><td style=\"text-align:right\">55</td><td style=\"text-align:right\">2.07×10⁵</td><td style=\"text-align:right\">204862</td><td style=\"text-align:right\">2.05%</td><td style=\"text-align:right\">0.02x</td></tr><tr><td style=\"text-align:left\">Betanuil, big colonies only, 60 min recovery</td><td style=\"text-align:right\">10000</td><td style=\"text-align:right\">15</td><td style=\"text-align:right\">0</td><td style=\"text-align:right\">1</td><td style=\"text-align:right\">4</td><td style=\"text-align:right\">13</td><td style=\"text-align:right\">61</td><td style=\"text-align:right\">2.11×10⁵</td><td style=\"text-align:right\">208794</td><td style=\"text-align:right\">2.09%</td><td style=\"text-align:right\">0.02x</td></tr><tr><td style=\"text-align:left\">Betanuil, all colonies, no recovery</td><td style=\"text-align:right\">10000</td><td style=\"text-align:right\">15</td><td style=\"text-align:right\">2</td><td style=\"text-align:right\">2</td><td style=\"text-align:right\">27</td><td style=\"text-align:right\">lawn</td><td style=\"text-align:right\">lawn</td><td style=\"text-align:right\">2.08×10⁶</td><td style=\"text-align:right\">1880637</td><td style=\"text-align:right\">18.81%</td><td style=\"text-align:right\">0.21x</td></tr><tr><td style=\"text-align:left\">Betanuil, all colonies, 60 min recovery</td><td style=\"text-align:right\">10000</td><td style=\"text-align:right\">15</td><td style=\"text-align:right\">0</td><td style=\"text-align:right\">3</td><td style=\"text-align:right\">16</td><td style=\"text-align:right\">lawn</td><td style=\"text-align:right\">lawn</td><td style=\"text-align:right\">1.32×10⁶</td><td style=\"text-align:right\">1236103</td><td style=\"text-align:right\">12.36%</td><td style=\"text-align:right\">0.13x</td></tr></table>"
      ],
      "text/plain": [
       "<count_transformants.TransformationTable at 0x7fa893bc17f0>"
      ]
     },
     "execution_count": 6,
     "metadata": {},
     "output_type": "execute_result"
    }
   ],
   "source": [
    "import sys; sys.path.append('../scripts')\n",
    "from count_transformants import TransformationTable\n",
    "\n",
    "# Only counting big colonies.  Last time I also counted\n",
    "\n",
    "table = TransformationTable()\n",
    "table.dilutions = [5**5, 5**4, 5**3, 5**2, 5**1]\n",
    "table.add_row(('Betanuil, big colonies only, no recovery', 1e7), 10000, 15, (0, 0, 4, 18, 55))\n",
    "table.add_row(('Betanuil, big colonies only, 60 min recovery', 1e7), 10000, 15, (0, 1, 4, 13, 61))\n",
    "table.add_row(('Betanuil, all colonies, no recovery', 1e7), 10000, 15, (2, 2, 27))\n",
    "table.add_row(('Betanuil, all colonies, 60 min recovery', 1e7), 10000, 15, (0, 3, 16))\n",
    "table"
   ]
  },
  {
   "cell_type": "markdown",
   "metadata": {},
   "source": [
    "I got about the same number of transformants as last time, despite the fact that I used 4.15x more DNA.  It seems that DNA is not a limiting factor.  The Betanuil paper itself reaches this same conclusion (I just double-checked), which is reassuring.  That said, I imagine I'll keep doing the miraprep + drop dialysis because it's easier than the spin columns and it gives me enough DNA to actually use all the competent cells."
   ]
  }
 ],
 "metadata": {
  "hide_input": true,
  "kernelspec": {
   "display_name": "Python 3",
   "language": "python",
   "name": "python3"
  },
  "language_info": {
   "codemirror_mode": {
    "name": "ipython",
    "version": 3
   },
   "file_extension": ".py",
   "mimetype": "text/x-python",
   "name": "python",
   "nbconvert_exporter": "python",
   "pygments_lexer": "ipython3",
   "version": "3.6.0"
  }
 },
 "nbformat": 4,
 "nbformat_minor": 2
}
