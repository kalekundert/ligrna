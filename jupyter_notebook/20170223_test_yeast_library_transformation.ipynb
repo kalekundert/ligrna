{
 "cells": [
  {
   "cell_type": "markdown",
   "metadata": {},
   "source": [
    "# Test library transformation in yeast"
   ]
  },
  {
   "cell_type": "markdown",
   "metadata": {},
   "source": [
    "## Feb 23, 2017 (Thursday)\n",
    "\n",
    "1. Get non-carmelized YPD from Andrew.\n",
    "\n",
    "2. Innoculate 5 mL non-carmelized YPD with a yAHN239 (dCas9 + sfGFP + mRFP) colony picked from a plate.  Grow overnight at 30C.\n",
    "\n",
    "3. Transform pAN068 (KanR) into Top10 cells.  Also transform pAN045, just to have more of it.  My plan is to try the mira-prep protocol.  I got ~2.5 uL plasmid (from Andrew), and I used 1 uL for this transformation.  I used 20 uL of CaCl2 competent Top10 cells, and recovered in 100 uL SOC for 3h (I meant to recover for 1h, but I forgot about it).  I plated 100 uL SOC on pre-warmed Kan plates.\n",
    "\n",
    "## Feb 24, 2017 (Friday)\n",
    "\n",
    "1. Both transformations were lawns.  I decided to start 50 mL day cultures from the lawns (with the goal of miniprepping them and maybe even attempting the yeast transformation).  I prepared 2 flasks with 50 mL LB+Kan.  Then I pipeted 500 uL LB+Kan onto each plate and used a sterile innoculating rod to suspend about 1/6 of the cells in the media.  I then aspirated as much of this media as I could (about 300 uL) and dispensed it into the appropriate flask.  I put the flasks in the 37C shaker and let them grow for 8h.\n",
    "\n",
    "2. I isolated plasmid DNA for both cultures using the mira-prep protocol:\n",
    "    \n",
    "    - Pellet 50 mL cells by spinning at 3500g for 10 min on the tabletop centrifuge.  The supernatant still seemed cloudy after 10 min (although there was a clear pellet), so I spun for another 10 min.  The supernatant was still cloudy after that, but I decided to move on to the next step.\n",
    "    \n",
    "    - Resuspend, lyse, and neutralize the cells as in a usual miniprep, but use 2 mL of each buffer.\n",
    "    \n",
    "    - Distribute the lysed cells between 4 1.5 mL tubes by pouring (not pipeting) and spin at 13,200g for 10 min.  (This is only about 75% as fast as I usually spin, I don't know if the difference really matters.)\n",
    "    \n",
    "    - Collect the supernatants into a single 15 mL tube and add 1 volume of 100% ethanol.  Invert to mix a few times.  The solution should become very slightly cloudy.\n",
    "    \n",
    "    - Run the DNA/ethanol mixture through a single miniprep spin column using a vacuum manifold.  This got slower and slower as more precipitated DNA clogged the filter, so eventually I had to switch to using the centrifuge.  The mira-prep paper suggests using 5 spin columns (each of which only has ~2 mL passed through it), but this dilutes the resulting DNA 5 times.  For transformations, I want the highest possible concentration.\n",
    "    \n",
    "    - Wash twice with 500 uL PE, then elute with 50 uL EB.  In the future, I could try eluting with 30 uL EB for higher concentrations.\n",
    "    \n",
    "    - pAN045: 8162.0 ng/uL, 260/280 = 2.01, 260/230 = 2.51\n",
    "    - pAN068: 3214.1 ng/uL, 260/280 = 1.97, 260/230 = 2.47\n",
    "    \n",
    "    - Store the DNA at -20C.\n"
   ]
  },
  {
   "cell_type": "markdown",
   "metadata": {},
   "source": [
    "## Feb 28, 2017 (Tuesday)"
   ]
  },
  {
   "cell_type": "markdown",
   "metadata": {},
   "source": [
    "1. Measue the OD of the overnight culture using the nanodrop: 1.68\n",
    "   \n",
    "   That might be outside the linear range of the nanodrop.  Andrew says YPD supports growth up to OD600 = 20, so the overnight should be higher than 2.\n",
    "   \n",
    "2. Dilute 500 uL overnight into 50 mL culture.  The protocol says to dilute to OD600=0.2, but I'm behind schedule and it would take too long to make a serial dilution to get into the linear range of the nanodrop to really confirm my OD, and I'm sure a 1:100 dilution is good enough.\n",
    "\n",
    "3. Thaw the pAN068 I mira-prepped last week.\n",
    "\n",
    "4. Digest 10 uL of pAN068 with NotI.  We have 20 U/uL NotI-HF (one unit is defined as the amount of enzyme required to digest 1 μg of pBC4 DNA in 1 hour at 37°C in a total reaction volume of 50 μl).  The protocol doesn't specify how much DNA to use, so I just decided to use 10 uL; that's still an extreme amount of DNA, but I'll still have enough to try again if I need to.  10 uL is 32 ug, which means I'll need 1.5 uL NotI-HF.\n",
    "\n",
    "    - 33.5 uL water\n",
    "    - 10 uL 3214 ng/uL plasmid\n",
    "    - 5 uL 10x CutSmart buffer\n",
    "    - 1.5 uL NotI-HF (20 U/uL)\n",
    "    \n",
    "   Oh wait, I just realized that the protocol did specify 10 ug of DNA.  So I guess I linearized 3x more than I should've.  I'm going to use exactly 10 ug for the transformation, because I think the amount of plasmid DNA and the amount of ssDNA are correlated.\n",
    "\n",
    "5. Incubate the restriction digest at 37C for 2h, then heat inactivate at 65C for 20 min (\"XmnI digest\" protocol on our thermocycler).\n",
    "\n",
    "6. Get a SD-Leu plate from the El-Samad lab, and pre-incubate it at 29C (I couldn't find a 30C incubator).\n",
    "\n",
    "7. Chill >51 mL milliQ water in an ice bath.  I would've done chilled it in the cold room overnight if I'd thought about this last night.\n",
    "\n",
    "8. After 7h20 of growth, I tried diluting the yeast by adding an equal part water before measuring OD, and I measured an OD of 0.5587, which corresponds to an actual OD of 1.117.  A few minutes earlier, I'd measured their OD to be .8385 without diluting.  I'm not really sure what the actual OD600 was.  Maybe I made a mistake doing the dilution (scratched a cuvette, didn't mix well enough, had a bubble, something), or maybe OD600 1.0 is already outside of the linear range for the spectrophotometer.  In any case, I should think about ways to track the OD600 more reliably next time.\n",
    "\n",
    "9. I tried denaturing the ssDNA in a hot plate set to 100C, but that didn't work very well.  I had a hard time keeping the temperature near 100C, and the water I put in the well kept evaporating and leaving the tube dry.  Plus whenever I added water, that probably dropped the temperature below 100C for a while.  Maybe next time I should split the ssDNA into smaller aliquots and use the thermocycler.\n",
    "\n",
    "10. After suspending the cells in 5 mL LiOAc, I should probably switch to a smaller tube, either a 15 mL culture tube or a 15 mL falcon tube.  This time I just kept everything in the 50 mL tube, and it didn't vortex very well.\n",
    "\n",
    "11. Plate 3 uL and 20 uL spots.  Do 6 10x dilutions."
   ]
  },
  {
   "cell_type": "markdown",
   "metadata": {},
   "source": [
    "## Mar 2, 2017 (Thursday) "
   ]
  },
  {
   "cell_type": "markdown",
   "metadata": {},
   "source": [
    "- It took 2 days for the colonies to grow.  The transformation didn't work very well.\n",
    "\n",
    "  - 1e-1:  3 cfu / 3 uL; 25 cfu / 20 uL\n",
    "  - 1e-2:  0 cfu / 3 uL;  2 cfu / 20 uL\n",
    "  - Total: ~250 cfu\n",
    "  \n",
    "- It's possible that something about the mira-prepped DNA was causing problems.  For example, James got a bad electro-transformation with mira-prepped DNA that was probably due to the slat left over from the purification.\n",
    "\n",
    "- It's possible that I didn't properly boil the ssDNA, but that's probably not the whole problem.\n",
    "\n",
    "- It's possible that the restriction digest didn't work very well.  I should check it on a gel next time.\n"
   ]
  },
  {
   "cell_type": "code",
   "execution_count": 3,
   "metadata": {
    "collapsed": false
   },
   "outputs": [
    {
     "data": {
      "text/html": [
       "<table><tr><th style=\"text-align:left\">Library</th><th style=\"text-align:right\">Recover (μL)</th><th style=\"text-align:right\">Plate (μL)</th><th style=\"text-align:right\"># cfu/10²</th><th style=\"text-align:right\"># cfu/10¹</th><th style=\"text-align:right\"># Transformants</th><th style=\"text-align:right\"># Unique</th><th style=\"text-align:right\">Coverage (%)</th><th style=\"text-align:right\">Coverage (fold)</th></tr><tr><td style=\"text-align:left\">pAHN068</td><td style=\"text-align:right\">1000</td><td style=\"text-align:right\">20</td><td style=\"text-align:right\">2</td><td style=\"text-align:right\">25</td><td style=\"text-align:right\">1.23×10⁴</td><td style=\"text-align:right\">1</td><td style=\"text-align:right\">100.00%</td><td style=\"text-align:right\">12272.73x</td></tr></table>"
      ],
      "text/plain": [
       "<count_transformants.TransformationTable at 0x7f5c2dcb2780>"
      ]
     },
     "execution_count": 3,
     "metadata": {},
     "output_type": "execute_result"
    }
   ],
   "source": [
    "import sys; sys.path.append('../scripts')\n",
    "import numpy as np\n",
    "from count_transformants import TransformationTable\n",
    "\n",
    "table = TransformationTable()\n",
    "table.dilutions = (50 / 5)**np.array([2, 1])\n",
    "table.add_row(('pAHN068', 1), 1000, 20, [2, 25])\n",
    "table"
   ]
  },
  {
   "cell_type": "markdown",
   "metadata": {},
   "source": []
  }
 ],
 "metadata": {
  "hide_input": false,
  "kernelspec": {
   "display_name": "Python 3",
   "language": "python",
   "name": "python3"
  },
  "language_info": {
   "codemirror_mode": {
    "name": "ipython",
    "version": 3
   },
   "file_extension": ".py",
   "mimetype": "text/x-python",
   "name": "python",
   "nbconvert_exporter": "python",
   "pygments_lexer": "ipython3",
   "version": "3.6.0"
  }
 },
 "nbformat": 4,
 "nbformat_minor": 2
}
