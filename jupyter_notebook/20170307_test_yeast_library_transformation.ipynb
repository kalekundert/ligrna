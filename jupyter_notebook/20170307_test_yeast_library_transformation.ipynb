{
 "cells": [
  {
   "cell_type": "markdown",
   "metadata": {},
   "source": [
    "# Test yeast library transformation\n",
    "\n",
    "The first yeast transformation I did didn't work very well.  I'm trying the same protocol again, just to see if doing it a little better and making fewer mistakes makes a difference.  If this doesn't work, then I'll have to ask the El-Samad lab for help."
   ]
  },
  {
   "cell_type": "markdown",
   "metadata": {},
   "source": [
    "## Mar 07, 2017 (Tuesday)"
   ]
  },
  {
   "cell_type": "markdown",
   "metadata": {},
   "source": [
    "- Measure the OD of the overnight culture on the nanodrop.  Measure three 4x serial dilutions to test the linear range of the nanodrop.  Be sure the invert the cells a few times, because a bunch of them settled overnight.\n",
    "\n",
    "Dilution  |  OD600 | Corrected OD600\n",
    "--------- | -----: | --------------:\n",
    "1/4       |   1.09 |            4.36\n",
    "1/16      |   0.28 |            4.48\n",
    "1/64      |   0.14 |            8.96\n",
    "\n",
    "- Since I've seen the nanodrop have problems with low ODs before, I'm inclined to trust the first two measurements and say the OD of the overnight is about 4.\n",
    "\n",
    "- Inoculate 50 mL YPD with 1 mL overnight culture.  I would've needed to use 2.5 mL to get a starting OD of ~0.2 like the protocol suggests, but I'm going to be busy today and I won't mind the cells taking a little longer to grow.\n",
    "\n",
    "- Measure the OD of the day culture periodically.  I measured 1x and 2x dilutions, because last time I seemed to get out of the dynamic range of the spectrophotometer.\n",
    "\n",
    "Time |  OD600 | OD600/2\n",
    "---- | -----: | ------:\n",
    "2h25 | 0.3442 |  0.1889\n",
    "3h25 | 0.5251 |  0.2918\n",
    "4h25 | 0.7783 |  0.4621\n",
    "\n",
    "- Miniprep pAHN068.  I was worried that there might be something about the mira prep that hurt the transformation efficiency, so I wanted to use normally miniprepped DNA.  I miniprepped 5 mL overnight culture and got 731.6 ng/uL product, clean.  That's much higher than I usually get in a miniprep (although pAHN068 is 5.5kb, so this actually is about the same moles as my usual minipreps...).\n",
    "\n",
    "- Digest 10 ug pAHN068 with NotI-HF.\n",
    "\n",
    "  - 30.33 uL water\n",
    "  - 13.67 uL 731.6 ng/uL pAHN068\n",
    "  - 5.00 uL NEB buffer 4\n",
    "  - 1 uL 20 U/uL NotI-HF\n",
    "  \n",
    "  - Incubate at 37C for 1h (meant to do 2h, but cells finished growing after just 1h).\n",
    "  - Heat-inactivate at 65C for 20 min.\n",
    " \n",
    "- Incubate 8 62.5 uL aliquots of salmon sperm DNA at 100C for 5 min in the thermocycler.  Move to ice immediately after incubation.\n",
    "\n",
    "- Stop the cells growing at 4h25.  The OD600/2 was still a bit below 1.0 (it was 0.9242), but based on the 3h25 timepoint, I think it was probably an underestimate.  Transfer to 50 mL Falcon tube.\n",
    "\n",
    "- Pellet the cells at 3000g for 5 min.\n",
    "\n",
    "- Resuspend in 50 mL sterile, 4C water.  Pipet to resuspend.\n",
    "\n",
    "- Pellet the cells at 3000g for 5 min.\n",
    "\n",
    "- Prepare 5 mL 100 mM LiOAc: 500 uL 1M LiOAc, 4.5 mL sterile, 4C water.\n",
    "\n",
    "- Resuspend the cells in 5 mL 100 mM LiOAc.  Transfer to 15 mL Falcon tube.\n",
    "\n",
    "- Pellet the cells at 3000g for 5 min.\n",
    "\n",
    "- Mix the pAHN068 restriction digest reaction with 500 uL salmon sperm DNA.  Keep on ice.\n",
    "\n",
    "- Resuspend pellet in water such that the final volume is 500 uL.  I had to add 390 uL both times I did this.  Vortex to mix.\n",
    "\n",
    "- Add 2.4 mL 50% PEG 3350.  Vortex to mix.\n",
    "\n",
    "- Add 360 uL 1M LiOAc.  Vortex to mix.\n",
    "\n",
    "- Add pAHN068 + salmon sperm DNA.  Vortex to mix.\n",
    "\n",
    "- Incubate at 30C (with shaking) for 30 min.\n",
    "\n",
    "- Transfer to 42C water bath.  Incubate for 45 min.\n",
    "\n",
    "- Pre-warm an SD-Leu plate at 29C.\n",
    "\n",
    "- Pellet the cells at 3000g for 5 min.\n",
    "\n",
    "- Decant the supernatant and bring to 1 mL in sterile water (room temp).  In retrospect, I should've rinsed or even washed with water to get rid of as much PEG and LiOAc as possible.\n",
    "\n",
    "- Make 5x serial dilutions of the transformed cells in water (40 uL water in each tube, transfer 10 uL each time).  Plate 20 uL spots of each dilution.\n",
    "\n",
    "\n",
    "  "
   ]
  },
  {
   "cell_type": "code",
   "execution_count": 9,
   "metadata": {
    "collapsed": false
   },
   "outputs": [
    {
     "data": {
      "text/html": [
       "<table><tr><th style=\"text-align:left\">Library</th><th style=\"text-align:right\">Recover (μL)</th><th style=\"text-align:right\">Plate (μL)</th><th style=\"text-align:right\"># cfu/10²</th><th style=\"text-align:right\"># cfu/10¹</th><th style=\"text-align:right\"># Transformants</th><th style=\"text-align:right\"># Unique</th><th style=\"text-align:right\">Coverage (%)</th><th style=\"text-align:right\">Coverage (fold)</th></tr><tr><td style=\"text-align:left\">pAHN068</td><td style=\"text-align:right\">1000</td><td style=\"text-align:right\">20</td><td style=\"text-align:right\">6</td><td style=\"text-align:right\">27</td><td style=\"text-align:right\">3.44×10⁴</td><td style=\"text-align:right\">1</td><td style=\"text-align:right\">100.00%</td><td style=\"text-align:right\">34375.00x</td></tr></table>"
      ],
      "text/plain": [
       "<count_transformants.TransformationTable at 0x7f37c0695a20>"
      ]
     },
     "execution_count": 9,
     "metadata": {},
     "output_type": "execute_result"
    }
   ],
   "source": [
    "import sys; sys.path.append('../scripts')\n",
    "import numpy as np\n",
    "from count_transformants import TransformationTable\n",
    "\n",
    "table = TransformationTable()\n",
    "table.dilutions = (50 / 10)**np.arange(4)[::-1]\n",
    "table.add_row(('pAHN068', 1), 1000, 20, [6, 27])\n",
    "table"
   ]
  },
  {
   "cell_type": "markdown",
   "metadata": {},
   "source": []
  }
 ],
 "metadata": {
  "hide_input": false,
  "kernelspec": {
   "display_name": "Python 3",
   "language": "python",
   "name": "python3"
  },
  "language_info": {
   "codemirror_mode": {
    "name": "ipython",
    "version": 3
   },
   "file_extension": ".py",
   "mimetype": "text/x-python",
   "name": "python",
   "nbconvert_exporter": "python",
   "pygments_lexer": "ipython3",
   "version": "3.6.0"
  }
 },
 "nbformat": 4,
 "nbformat_minor": 2
}
