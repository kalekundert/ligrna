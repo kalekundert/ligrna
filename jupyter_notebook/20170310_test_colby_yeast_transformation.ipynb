{
 "cells": [
  {
   "cell_type": "markdown",
   "metadata": {},
   "source": [
    "# Test Colby yeast transformation protocol"
   ]
  },
  {
   "cell_type": "markdown",
   "metadata": {},
   "source": [
    "- Inoculate 100 mL YPD with 1.65 mL fresh overnight culture.  I tried to measure the OD of the overnight and dilute it to OD600 = 0.1, but instead got OD600 = 0.066.  Maybe next time I should just use 2 mL.\n",
    "\n",
    "- Grow cells with vigorous shaking (250 rpm) at 30C to an OD of 1.3.  Measure the OD600 by diluting 50 uL cells into 950 uL YPD, and multiplying the resulting OD600 by 20.  I did this to stay in the linear range of the spectrophotometer and to waste less of the day culture.\n",
    "\n",
    "Time | OD600\n",
    "---- | ----:\n",
    "0h00 | 0.066\n",
    "4h00 | 0.550\n",
    "5h15 | 0.960\n",
    "5h45 | 1.242\n",
    "\n",
    "- Prepare 50 mL \"E buffer\":\n",
    "\n",
    "  - 500 uL 1M Tris (pH=7.5) (10 mM final)\n",
    "  - 50 uL 1M MgCl2  (1 mM final)\n",
    "  - 4.621 g sucrose (270 mM final)\n",
    "  - water to 50 mL\n",
    "\n",
    "- Setup DNA digestion reaction.\n",
    "  \n",
    "  The protocol calls for 1 ug vector and 9 ug insert.  I don't have a vector, so I'm aiming for 10 ug DNA.  That's not a problem for the NotI digestion:\n",
    "  \n",
    "  - 34 uL water\n",
    "  - 10 uL 731.6 ng/uL plasmid\n",
    "  - 5 uL NEB buffer 4 or cutsmart\n",
    "  - 1 uL 20 U/uL NotI-HF\n",
    "  - 1h at 37C, 20 min at 65C\n",
    "\n",
    "- Desalt the digestion reaction by splitting the reaction in half and running each half through a Zymo spin column.  Elute both columns with 5 uL water into the same tube.\n",
    "  \n",
    "- At 6h00, add 1 mL freshly prepared 2.5M DTT in 1M Tris (pH=8.0) to the growing cells.  (I prepared the DTT at 5h45.)  Based on an exponential fit, the cells should've been at OD600=1.3 at 6h00.\n",
    "  \n",
    "  - 385.6 mg DTT (in the 4C in the gel room). This much DTT just barely fits in a 1.5 mL eppendorf tube.  I had to compact it a bit to get it all in there.  Maybe next time use a 2 mL tube.\n",
    "  - 1 mL 1M Tris (pH=8.0) (borrowed from Tina)\n",
    "  \n",
    "- Continue growing at 30C for 20 min.\n",
    "\n",
    "- Pellet the cells at 3500 rpm, 5 min, 4C, in two 50 mL falcon tubes.  Discard supernatant.\n",
    "\n",
    "- Wash with 25 mL \"E buffer\".  The protocol explicitly called for this step to be done at room temperature.  Unless otherwise noted, all other spins and washes were also done at room temperature.\n",
    "\n",
    "- Wash with 2 mL \"E buffer\" (transfer the cells to 1.5 mL tubes for this wash).\n",
    "\n",
    "- Bring the cells to 300 uL in \"E buffer\".  For me the cells themselves were about 200 uL, so I only had to add 100 uL more \"E buffer\".\n",
    "\n",
    "- Chill the cells and the DNA on ice for a few minutes.  (This step was not in the protocol per se).\n",
    "\n",
    "- Mix 10 uL (10 ng) DNA with 50 uL cells.  This about the quantity of DNA called for in the protocol, but twice the volume.  I decided it was more important to match quantity than volume.  Transfer to a chilled 2 mM electroporation cuvette.  50 uL was barely enough to cover the bottom of the cuvette.\n",
    "\n",
    "- Rest on ice for 5 min.\n",
    "\n",
    "- Electroporate using the deffault settings for S. cerevisiae.  These were:\n",
    "\n",
    "  - voltage: 1.5 kV\n",
    "  - capacitance: 25 uF\n",
    "  - resistance: 200 ohms\n",
    "  - gap length: 2 mM\n",
    "  \n",
    "  The protocol called for .54 kV, but I decided to stick with the manufacturer's settings, since they work well for E. coli.\n",
    "  \n",
    "  The electroporator reported:\n",
    "  \n",
    "  - correlation time: 4.7 ms\n",
    "  - voltage: 1490 V\n",
    "  \n",
    "- Add 1 mL room temperature YPD immediately after electoporating.\n",
    "  \n",
    "- Make 8 5x dilutions by serially diluting 10 uL cells into 40 uL YPD.  Plate 20 uL of each dilution on an SD-Leu plate.  Incubate at 30C over the weekend.\n"
   ]
  },
  {
   "cell_type": "code",
   "execution_count": 1,
   "metadata": {
    "collapsed": false
   },
   "outputs": [
    {
     "data": {
      "text/html": [
       "<table><tr><th style=\"text-align:left\">Library</th><th style=\"text-align:right\">Recover (μL)</th><th style=\"text-align:right\">Plate (μL)</th><th style=\"text-align:right\"># cfu/10²</th><th style=\"text-align:right\"># cfu/10¹</th><th style=\"text-align:right\"># cfu/10⁰</th><th style=\"text-align:right\"># Transformants</th><th style=\"text-align:right\"># Unique</th><th style=\"text-align:right\">Coverage (%)</th><th style=\"text-align:right\">Coverage (fold)</th></tr><tr><td style=\"text-align:left\">pAHN068</td><td style=\"text-align:right\">1000</td><td style=\"text-align:right\">20</td><td style=\"text-align:right\">2</td><td style=\"text-align:right\">6</td><td style=\"text-align:right\">8</td><td style=\"text-align:right\">3.23×10³</td><td style=\"text-align:right\">3225</td><td style=\"text-align:right\">0.03%</td><td style=\"text-align:right\">0.00x</td></tr></table>"
      ],
      "text/plain": [
       "<count_transformants.TransformationTable at 0x7f8904388630>"
      ]
     },
     "execution_count": 1,
     "metadata": {},
     "output_type": "execute_result"
    }
   ],
   "source": [
    "import sys; sys.path.append('../scripts')\n",
    "from count_transformants import record_transformants\n",
    "\n",
    "record_transformants(\n",
    "    (('pAHN068', 1e7), 1000, 20, (2, 6, 8)),\n",
    "    dilutions=(5**3, 5**2, 5**1),\n",
    ")"
   ]
  },
  {
   "cell_type": "markdown",
   "metadata": {},
   "source": []
  }
 ],
 "metadata": {
  "hide_input": false,
  "kernelspec": {
   "display_name": "Python 3",
   "language": "python",
   "name": "python3"
  },
  "language_info": {
   "codemirror_mode": {
    "name": "ipython",
    "version": 3
   },
   "file_extension": ".py",
   "mimetype": "text/x-python",
   "name": "python",
   "nbconvert_exporter": "python",
   "pygments_lexer": "ipython3",
   "version": "3.6.0"
  }
 },
 "nbformat": 4,
 "nbformat_minor": 2
}
