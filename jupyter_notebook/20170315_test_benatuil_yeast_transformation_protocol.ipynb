{
 "cells": [
  {
   "cell_type": "markdown",
   "metadata": {},
   "source": [
    "# Test Benatuil yeast transformation protocol"
   ]
  },
  {
   "cell_type": "markdown",
   "metadata": {},
   "source": [
    "1. Pick a yAHN239 colony and grow overnight in 5 mL YPD.\n",
    "\n",
    "2. Prepare 120 mL 1M sorbitol.\n",
    "\n",
    "  - 21.86 g sorbitol (182.17 g/mol)\n",
    "  - water to 120 mL\n",
    "  \n",
    "3. Reserve 5 mL 1M sorbitol.\n",
    "\n",
    "4. Prepare 115 mL \"electroporation buffer\" with the remaining sorbitol.\n",
    "\n",
    "  - 115 mL 1M sorbitol\n",
    "  - 115 uL 1M CaCl2\n",
    "  - sterile filter\n",
    "  - store at 4C\n",
    "\n",
    "2. Innoculate 100 mL YPD with the entire overnight culture.  The protocol calls for an initial OD of 0.3, and from previous experience I thought that 5 mL overnight would be close.  The initial OD ended up being 0.342.\n",
    "\n",
    "3. Incubate at 30C shaking at 250 rpm.\n",
    "\n",
    "4. Linearize ~7 ug pAHN068.  The protocol calls for anywhere between 4-16 ug DNA.  I didn't want to use more than 10 uL of my miniprepped DNA, which is 731.6 ng/uL.  10 uL works out to about 7 ug.  That probably corresponds to about 4 ug of actual insert, since a little less than half of the plasmid is just backbone that is cut out by the restriction digest.  So I'm on the very low end of the range suggested by the protocol.  I could easily get to 16 ug by using the miraprepped DNA, but for now I want to avoid the complexity of using potentially less-pure DNA.\n",
    "\n",
    "  - 34 uL water\n",
    "  - 10 uL 731.6 ng/uL plasmid\n",
    "  - 5 uL NEB buffer 4 or cutsmart\n",
    "  - 1 uL 20 U/uL NotI-HF\n",
    "  - 1h at 37C, 20 min at 65C, hold at 12C\n",
    "  \n",
    "5. Desalt and concentrate the linearized DNA by using two Zymo spin columns.\n",
    "\n",
    "  - Add 285 uL Qiagen buffer PB to the restriction digest reaction.\n",
    "  - Add 167 uL two each of two Zymo spin columns.\n",
    "  - Spin at 16g for 30s\n",
    "  - Wash both columns with 200 uL Qiagen buffer PE.\n",
    "  - Spin at 16g for 30s\n",
    "  - Wash both columns again with 200 uL PE.\n",
    "  - Spin at 16g for 1 min.\n",
    "  - Add 5 uL milliQ water to both columns.\n",
    "  - Let sit for >1 min.\n",
    "  - Spin at 16g for 1 min to elute.  Elute both columns into the same tube.\n",
    "  - Measure DNA concentration by nanodrop: 253.8 ng/uL\n",
    "  - Volume (measured by pipet): 8.020 uL\n",
    "  - Yield: 2.035 ug (probably ~1 ug insert)\n",
    "  \n",
    "  This yield puts me below the recommended amount of DNA.  Maybe I should use the miraprepped DNA if I do this again.\n",
    "  \n",
    "6. The cells grew to OD600 = 1.752 in 4h00.  I was aiming for OD600 = 1.600, so I overshot by about 10 min.  I'm a little suspicious that it would've been better to dilute the cells more in the morning, just because the growth curve was pretty sharp, so I'm not sure that all the cells were really in the same metabolic state.\n",
    "\n",
    "7. Take a 1 mL aliquot of 1M DTT out of the freezer and thaw at room temperature.  Also put the digested DNA and a 2 mm electroporation cuvette on ice.\n",
    "\n",
    "8. Wash the cells with water and \"electroporation buffer\":\n",
    "\n",
    "  - Pellet 3270g, 4C, 5 min.\n",
    "  - Resuspend in 50 mL chilled water.\n",
    "  - Pellet 3270g, 4C, 5 min.\n",
    "  - Resuspend in 50 mL chilled water again.\n",
    "  - Pellet 3270g, 4C, 5 min.\n",
    "  - Resuspend in 50 mL electroporation buffer\"\n",
    "  \n",
    "9. Prepare 20 mL \"conditioning buffer\":\n",
    "\n",
    "  - 2 mL 1M LiOAc\n",
    "  - 200 uL 1M DTT\n",
    "  - milliQ water to 20 mL\n",
    "  \n",
    "9. Resuspend in 20 mL conditioning buffer, then incubate at 30C for 30 min.  The protocol explicitly called for shaking at 225 rpm, 25 rpm slower than I shook the cells while they were growing, so I did that.\n",
    "\n",
    "10. Wash the cells with \"electroporation buffer\" and bring to 1 mL.\n",
    "\n",
    "  - Pellet 3270g, 4C, 5 min.\n",
    "  - Resuspend in 50 mL electroporation buffer\"\n",
    "  - Pellet 3270g, 4C, 5 min.\n",
    "  - Add electroporation buffer to a final volume of 1 mL.  I had to add 600 uL.\n",
    "  \n",
    "11. Pipet once to mix 400 uL of cells with all 10 uL of DNA.  Transfer to chilled cuvette.\n",
    "\n",
    "12. Electroporate with the following parameters.  The cells probably rested on ice for ~5 min while I struggled to configure the machine.\n",
    "\n",
    "  - Voltage: 2500 V\n",
    "  - Capacitance: 25 uF\n",
    "  - Resistance: 200 ohms (I took this from the pre-set S. cerevisiae protocol, since the Betanuil protocol didn't specify a resistance.)\n",
    "  - Gap length: 2 mm\n",
    "  \n",
    "  The measured exponential decay parameters were:\n",
    "  \n",
    "  - Time constant: 4.1 ms\n",
    "  - Voltage: 2474 V\n",
    "\n",
    "13. Immediately suspend cells in 10 mL 1:1 YPD:1M sorbitol (prepared while the cells were resting on ice and not sterile filtered).\n",
    "\n",
    "14. Incubate at 30C with shaking at 225 rpm for 1h.\n",
    "\n",
    "15. Make 8 5x serial dilutions, transferring 10 uL cells into 40 uL YPD each time.  Plate 20 uL of each dilution."
   ]
  },
  {
   "cell_type": "code",
   "execution_count": 11,
   "metadata": {
    "collapsed": false
   },
   "outputs": [],
   "source": [
    "# %load ./imports.py\n",
    "import sys; sys.path.append('../scripts')\n",
    "from count_transformants import record_transformants\n"
   ]
  },
  {
   "cell_type": "code",
   "execution_count": 1,
   "metadata": {
    "collapsed": false
   },
   "outputs": [
    {
     "data": {
      "text/html": [
       "<table><tr><th style=\"text-align:left\">Library</th><th style=\"text-align:right\">Recover (μL)</th><th style=\"text-align:right\">Plate (μL)</th><th style=\"text-align:right\"># cfu/10³</th><th style=\"text-align:right\"># cfu/10²</th><th style=\"text-align:right\"># cfu/10²</th><th style=\"text-align:right\"># cfu/10¹</th><th style=\"text-align:right\"># Transformants</th><th style=\"text-align:right\"># Unique</th><th style=\"text-align:right\">Coverage (%)</th><th style=\"text-align:right\">Coverage (fold)</th></tr><tr><td style=\"text-align:left\">pAHN068, big colonies only</td><td style=\"text-align:right\">10000</td><td style=\"text-align:right\">20</td><td style=\"text-align:right\">0</td><td style=\"text-align:right\">0</td><td style=\"text-align:right\">3</td><td style=\"text-align:right\">18</td><td style=\"text-align:right\">2.19×10⁵</td><td style=\"text-align:right\">216375</td><td style=\"text-align:right\">2.16%</td><td style=\"text-align:right\">0.02x</td></tr><tr><td style=\"text-align:left\">pAHN068, all colonies</td><td style=\"text-align:right\">10000</td><td style=\"text-align:right\">20</td><td style=\"text-align:right\">4</td><td style=\"text-align:right\">4</td><td style=\"text-align:right\">18</td><td style=\"text-align:right\">lawn</td><td style=\"text-align:right\">1.31×10⁶</td><td style=\"text-align:right\">1228247</td><td style=\"text-align:right\">12.28%</td><td style=\"text-align:right\">0.13x</td></tr></table>"
      ],
      "text/plain": [
       "<count_transformants.TransformationTable at 0x7f6b48f7cf98>"
      ]
     },
     "execution_count": 1,
     "metadata": {},
     "output_type": "execute_result"
    }
   ],
   "source": [
    "import sys; sys.path.append('../scripts')\n",
    "from count_transformants import record_transformants\n",
    "\n",
    "record_transformants(\n",
    "    (('pAHN068, big colonies only', 1e7), 10_000, 20, (0, 0, 3, 18)),\n",
    "    (('pAHN068, all colonies', 1e7), 10_000, 20, (4, 4, 18)),\n",
    "    dilutions=(5**5, 5**4, 5**3, 5**2),\n",
    ")"
   ]
  },
  {
   "cell_type": "markdown",
   "metadata": {},
   "source": []
  }
 ],
 "metadata": {
  "hide_input": false,
  "kernelspec": {
   "display_name": "Python 3",
   "language": "python",
   "name": "python3"
  },
  "language_info": {
   "codemirror_mode": {
    "name": "ipython",
    "version": 3
   },
   "file_extension": ".py",
   "mimetype": "text/x-python",
   "name": "python",
   "nbconvert_exporter": "python",
   "pygments_lexer": "ipython3",
   "version": "3.6.0"
  }
 },
 "nbformat": 4,
 "nbformat_minor": 2
}
