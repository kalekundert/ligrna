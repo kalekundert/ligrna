{
 "cells": [
  {
   "cell_type": "markdown",
   "metadata": {},
   "source": [
    "# Dissolve guanine\n",
    "I realized today that guanine is insoluble in water, so I had to experiment with ways to dissolve it.  In the literature I have on the guanine aptamer, one group suspended it in water and commented that is was not fully dissolved and another dissolved it at 50 mM in 200 mM NaOH.  Online, I found one person reporting dissolving guanine in DMSO to 100 mM."
   ]
  },
  {
   "cell_type": "markdown",
   "metadata": {},
   "source": [
    "## Concentration"
   ]
  },
  {
   "cell_type": "markdown",
   "metadata": {},
   "source": [
    "All of the papers I have on the guanine aptamer add guanine to a final concentration of 500 μM  (although this is a little dubious for the group that didn't get it to dissolve).  Regardless, 500 μM will be my target as well."
   ]
  },
  {
   "cell_type": "markdown",
   "metadata": {},
   "source": [
    "## DMSO"
   ]
  },
  {
   "cell_type": "markdown",
   "metadata": {},
   "source": [
    "The following paper suggests that 4% DMSO is about as much as E. coli can tolerate:\n",
    "\n",
    "Ansel et al. J Pharmaceutical Sciences. 58:7:836-839 (1969) http://onlinelibrary.wiley.com/doi/10.1002/jps.2600580708/pdf\n",
    "\n",
    "I also found people commenting online that 1% was about as high as human cell cultures would tolerate.  Considering those pieces of information, I decided that I would aim for 1% DMSO or less.\n",
    "\n",
    "Since I want a final concentration of 500 μM, I need to be able to reach 50 mM guanine in DMSO.  According to the one person who reported getting 100 mM, this should be possible.\n",
    "\n",
    "I measured 4.5 mg of guanine into a tube.  To reach 50 mM, I would would need to add:\n",
    "\n",
    "$$\n",
    "\\newcommand{\\mg}{\\mathrm{mg}}\n",
    "\\newcommand{\\mmol}{\\mathrm{mmol}}\n",
    "\\newcommand{\\uL}{\\mathrm{μL}}\n",
    "4.5\\mg \\times \\frac{1\\mmol}{151.13\\mg} \\times \\frac{10^6 \\uL}{50 \\mmol} = 595.5 \\uL\n",
    "$$\n",
    "\n"
   ]
  },
  {
   "cell_type": "markdown",
   "metadata": {},
   "source": [
    "I tried adding 100 μL, 300 μL, and 3300 μL DMSO.  There was clearly a large fraction in suspension at allvolumes of DMSO.  At this point it would require >5% DMSO to get a final guanine concentration of 500 μM, I don't think DMSO is a viable solvent."
   ]
  },
  {
   "cell_type": "markdown",
   "metadata": {},
   "source": []
  }
 ],
 "metadata": {
  "hide_input": false,
  "kernelspec": {
   "display_name": "Python 3",
   "language": "python",
   "name": "python3"
  },
  "language_info": {
   "codemirror_mode": {
    "name": "ipython",
    "version": 3
   },
   "file_extension": ".py",
   "mimetype": "text/x-python",
   "name": "python",
   "nbconvert_exporter": "python",
   "pygments_lexer": "ipython3",
   "version": "3.6.0"
  }
 },
 "nbformat": 4,
 "nbformat_minor": 2
}
