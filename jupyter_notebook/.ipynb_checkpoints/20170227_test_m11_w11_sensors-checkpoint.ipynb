{
 "cells": [
  {
   "cell_type": "markdown",
   "metadata": {},
   "source": [
    "# Test m11 sensors\n",
    "\n",
    "The idea behind the m11 sensors is to make variants of rxb 11,1 that either turn more on of more off.  The design strategy is explained in more detail in the m11 docstring.  I will start by picking a number of designs to test.  Then I'll order them, clone them by inverse PCR, and test them by flow cytometry.  In the end, I'll see if the designs modulate sensor activity in the expected ways."
   ]
  },
  {
   "cell_type": "code",
   "execution_count": 2,
   "metadata": {
    "collapsed": false
   },
   "outputs": [
    {
     "name": "stdout",
     "output_type": "stream",
     "text": [
      "Number of oligos: 12\r\n",
      "Primer lengths: 38, 39, 38, 39, 38, 39, 39, 40, 39, 40, 39, 40\r\n",
      "\r\n",
      "Primer names (ready to copy into Elim form):\r\n",
      "M11_GA_TM_59_REV\r\n",
      "M11_GA_TM_61_FOR, M11_GH_TM_61_FOR\r\n",
      "M11_GGA_TM_59_REV\r\n",
      "M11_GGA_TM_61_FOR, M11_GGH_TM_61_FOR\r\n",
      "M11_GGH_TM_59_REV\r\n",
      "M11_GGU_TM_59_REV, M11_GGV_TM_59_REV\r\n",
      "M11_GGU_TM_61_FOR\r\n",
      "M11_GGV_TM_61_FOR\r\n",
      "M11_GH_TM_59_REV\r\n",
      "M11_GU_TM_59_REV, M11_GV_TM_59_REV\r\n",
      "M11_GU_TM_61_FOR\r\n",
      "M11_GV_TM_61_FOR\r\n",
      "\r\n",
      "Primer sequences (ready to copy into Elim form):\r\n",
      "TTCGGCTGGTATTCCActtatttcaacttgctatgctg\r\n",
      "AGGCCCTTGGCAGTCTAcgttatcaacttgaaaaagtgg\r\n",
      "TTCGGCTGGTATTCCCActtatttcaacttgctatgctg\r\n",
      "AGGCCCTTGGCAGTCCTAcgttatcaacttgaaaaagtgg\r\n",
      "TTCGGCTGGTATCCCCActtatttcaacttgctatgctg\r\n",
      "TTCGGCTGGTATACCCActtatttcaacttgctatgctg\r\n",
      "AGGCCCTTGGCAGACCTAcgttatcaacttgaaaaagtgg\r\n",
      "AGGCCCTTGGCAGGCCTAcgttatcaacttgaaaaagtgg\r\n",
      "TTCGGCTGGTATCCCActtatttcaacttgctatgctg\r\n",
      "TTCGGCTGGTATACCActtatttcaacttgctatgctg\r\n",
      "AGGCCCTTGGCAGACTAcgttatcaacttgaaaaagtgg\r\n",
      "AGGCCCTTGGCAGGCTAcgttatcaacttgaaaaagtgg\r\n"
     ]
    }
   ],
   "source": [
    "# Design \n",
    "!../scripts/clone_into_sgrna.py \\\n",
    "    m11/ga \\\n",
    "    m11/gu \\\n",
    "    m11/gg/uc \\\n",
    "    m11/gu/gc \\\n",
    "    m11/gga \\\n",
    "    m11/ggu \\\n",
    "    m11/ggh \\\n",
    "    m11/ggv \\"
   ]
  },
  {
   "cell_type": "markdown",
   "metadata": {},
   "source": []
  }
 ],
 "metadata": {
  "hide_input": false,
  "kernelspec": {
   "display_name": "Python 3",
   "language": "python",
   "name": "python3"
  },
  "language_info": {
   "codemirror_mode": {
    "name": "ipython",
    "version": 3
   },
   "file_extension": ".py",
   "mimetype": "text/x-python",
   "name": "python",
   "nbconvert_exporter": "python",
   "pygments_lexer": "ipython3",
   "version": "3.6.0"
  }
 },
 "nbformat": 4,
 "nbformat_minor": 2
}
