{
 "cells": [
  {
   "cell_type": "markdown",
   "metadata": {},
   "source": [
    "# Test library transformation in yeast"
   ]
  },
  {
   "cell_type": "markdown",
   "metadata": {},
   "source": [
    "## Feb 23, 2017 (Thursday)\n",
    "\n",
    "1. Get non-carmelized YPD from Andrew.\n",
    "\n",
    "2. Innoculate 5 mL non-carmelized YPD with a yAHN239 (dCas9 + sfGFP + mRFP) colony picked from a plate.  Grow overnight at 30C.\n",
    "\n",
    "3. Transform pAN068 (KanR) into Top10 cells.  Also transform pAN045, just to have more of it.  My plan is to try the mira-prep protocol.  I got ~2.5 uL plasmid (from Andrew), and I used 1 uL for this transformation.  I used 20 uL of CaCl2 competent Top10 cells, and recovered in 100 uL SOC for 3h (I meant to recover for 1h, but I forgot about it).  I plated 100 uL SOC on pre-warmed Kan plates.\n",
    "\n",
    "## Feb 24, 2017 (Friday)\n",
    "\n",
    "1. Both transformations were lawns.  I decided to start 50 mL day cultures from the lawns (with the goal of miniprepping them and maybe even attempting the yeast transformation).  I prepared 2 flasks with 50 mL LB+Kan.  Then I pipeted 500 uL LB+Kan onto each plate and used a sterile innoculating rod to suspend about 1/6 of the cells in the media.  I then aspirated as much of this media as I could (about 300 uL) and dispensed it into the appropriate flask.  I put the flasks in the 37C shaker and let them grow for 8h.\n",
    "\n",
    "2. I isolated plasmid DNA for both cultures using the mira-prep protocol:\n",
    "    \n",
    "    - Pellet 50 mL cells by spinning at 3500g for 10 min on the tabletop centrifuge.  The supernatant still seemed cloudy after 10 min (although there was a clear pellet), so I spun for another 10 min.  The supernatant was still cloudy after that, but I decided to move on to the next step.\n",
    "    \n",
    "    - Resuspend, lyse, and neutralize the cells as in a usual miniprep, but use 2 mL of each buffer.\n",
    "    \n",
    "    - Distribute the lysed cells between 4 1.5 mL tubes by pouring (not pipeting) and spin at 13,200g for 10 min.  (This is only about 75% as fast as I usually spin, I don't know if the difference really matters.)\n",
    "    \n",
    "    - Collect the supernatants into a single 15 mL tube and add 1 volume of 100% ethanol.  Invert to mix a few times.  The solution should become very slightly cloudy.\n",
    "    \n",
    "    - Run the DNA/ethanol mixture through a single miniprep spin column using a vacuum manifold.  This got slower and slower as more precipitated DNA clogged the filter, so eventually I had to switch to using the centrifuge.  The mira-prep paper suggests using 5 spin columns (each of which only has ~2 mL passed through it), but this dilutes the resulting DNA 5 times.  For transformations, I want the highest possible concentration.\n",
    "    \n",
    "    - Wash twice with 500 uL PE, then elute with 50 uL EB.  In the future, I could try eluting with 30 uL EB for higher concentrations.\n",
    "    \n",
    "    - pAN045: 8162.0 ng/uL, 260/280 = 2.01, 260/230 = 2.51\n",
    "    - pAN068: 3214.1 ng/uL, 260/280 = 1.97, 260/230 = 2.47\n",
    "    \n",
    "    - Store the DNA at -20C.\n"
   ]
  },
  {
   "cell_type": "markdown",
   "metadata": {},
   "source": [
    "## Feb 28, 2017 (Tuesday)"
   ]
  },
  {
   "cell_type": "markdown",
   "metadata": {},
   "source": [
    "1. Measue the OD of the overnight culture using the nanodrop: 1.68\n",
    "   \n",
    "   That might be outside the linear range of the nanodrop.  Andrew says YPD supports growth up to OD600 = 20, so the overnight should be higher than 2.\n",
    "   \n",
    "2. Dilute 500 uL overnight into 50 mL culture.  The protocol says to dilute to OD600=0.2, but I'm behind schedule and it would take too long to make a serial dilution to get into the linear range of the nanodrop to really confirm my OD, and I'm sure a 1:100 dilution is good enough.\n"
   ]
  }
 ],
 "metadata": {
  "hide_input": false,
  "kernelspec": {
   "display_name": "Python 3",
   "language": "python",
   "name": "python3"
  },
  "language_info": {
   "codemirror_mode": {
    "name": "ipython",
    "version": 3
   },
   "file_extension": ".py",
   "mimetype": "text/x-python",
   "name": "python",
   "nbconvert_exporter": "python",
   "pygments_lexer": "ipython3",
   "version": "3.6.0"
  }
 },
 "nbformat": 4,
 "nbformat_minor": 2
}
