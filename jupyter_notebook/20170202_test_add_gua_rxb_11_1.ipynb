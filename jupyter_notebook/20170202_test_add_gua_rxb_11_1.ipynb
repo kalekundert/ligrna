{
 "cells": [
  {
   "cell_type": "markdown",
   "metadata": {},
   "source": [
    "# Test `add rxb 11,1` and `gua rxb 11,1`\n",
    "This experiment is one of two aimed at determining whether or not I can use adenine and guanine as ligands for my sgRNA sensors.  The first one will be a plate reader experiment to determine what the maximal concentrations of adenine and guanine can be used without observing any toxicity.  This one will be a CRISPRi assay to see how well `rxb 11,1` works with the adenine and guanine aptamers.  `rxb 11,1` has shown itself to be weakly functional with different aptamers (2x with `amm` and 1.5x with `tpp`), so this a good way to validate the ligand, the aptamer, and the conditions before doing a full screen."
   ]
  },
  {
   "cell_type": "markdown",
   "metadata": {},
   "source": [
    "## Order primers"
   ]
  },
  {
   "cell_type": "code",
   "execution_count": 8,
   "metadata": {
    "collapsed": false
   },
   "outputs": [
    {
     "name": "stdout",
     "output_type": "stream",
     "text": [
      "Number of oligos: 4\r\n",
      "Primer lengths: 54, 55, 54, 55\r\n",
      "\r\n",
      "Primer names (ready to copy into Elim form):\r\n",
      "ADD_RXB_11_1_TM_59_REV\r\n",
      "ADD_RXB_11_1_TM_61_FOR\r\n",
      "GUA_RXB_11_1_TM_59_REV\r\n",
      "GUA_RXB_11_1_TM_61_FOR\r\n",
      "\r\n",
      "Primer sequences (ready to copy into Elim form):\r\n",
      "ACTCCCAAACCATATCATTAGGATTATACCCActtatttcaacttgctatgctg\r\n",
      "TTCTACCAAGAGCCTTAAACTCTTGATTACCTAcgttatcaacttgaaaaagtgg\r\n",
      "ACTTGCGTGCCATATCCACGCGATTATACCCActtatttcaacttgctatgctg\r\n",
      "TTCTACCGGGCACCGTAAATGTCCGACTACCTAcgttatcaacttgaaaaagtgg\r\n"
     ]
    }
   ],
   "source": [
    "!../scripts/clone_into_sgrna.py add/rxb/11/1 gua/rxb/11/1"
   ]
  },
  {
   "cell_type": "markdown",
   "metadata": {},
   "source": [
    "NEB recommended $T_m = 60°C$"
   ]
  },
  {
   "cell_type": "code",
   "execution_count": null,
   "metadata": {
    "collapsed": true
   },
   "outputs": [],
   "source": []
  }
 ],
 "metadata": {
  "hide_input": false,
  "kernelspec": {
   "display_name": "Python 3",
   "language": "python",
   "name": "python3"
  },
  "language_info": {
   "codemirror_mode": {
    "name": "ipython",
    "version": 3
   },
   "file_extension": ".py",
   "mimetype": "text/x-python",
   "name": "python",
   "nbconvert_exporter": "python",
   "pygments_lexer": "ipython3",
   "version": "3.6.0"
  }
 },
 "nbformat": 4,
 "nbformat_minor": 2
}
