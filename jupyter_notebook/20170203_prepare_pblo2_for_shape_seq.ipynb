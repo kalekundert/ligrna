{
 "cells": [
  {
   "cell_type": "markdown",
   "metadata": {},
   "source": [
    "# Prepare pBLO2 for SHAPE-Seq\n",
    "In order to reverse transcribe (RT) RNA for SHAPE-Seq, there needs to be a primer binding site.  This could be in the sgRNA itself, but then we wouldn't get any data for that region.  Instead, I'm going to (at Kyle Watters' suggestion) replace the `TTTTTT` at the end of the *S. pyogenes* terminator with a double terminator provided by Kyle, that he's used before to primer RT."
   ]
  },
  {
   "cell_type": "markdown",
   "metadata": {},
   "source": [
    "## Feb 6, 2017 (Monday)"
   ]
  },
  {
   "cell_type": "code",
   "execution_count": 3,
   "metadata": {
    "collapsed": false
   },
   "outputs": [
    {
     "name": "stdout",
     "output_type": "stream",
     "text": [
      "Number of oligos: 2\r\n",
      "Primer lengths: 49, 50\r\n",
      "\r\n",
      "Primer names (ready to copy into Elim form):\r\n",
      "SHAPE_TERM_TM_58_FOR\r\n",
      "SHAPE_TERM_TM_58_REV\r\n",
      "\r\n",
      "Primer sequences (ready to copy into Elim form):\r\n",
      "ATACTCCCAAAGCCCGCCGAAAGGCGGGCTTTTTTTTgaagcttgggccc\r\n",
      "TATCGTCGGCTTTATCGGCCGAAGCAGGTAGAGGCgcaccgactcggtg\r\n"
     ]
    }
   ],
   "source": [
    "!../scripts/design_mutagenesis_primers.py \\\n",
    "    SHAPE_TERM \\\n",
    "    TGAAAAAGTGGCACCGAGTCGGTGCTTTTTTTGAAGCTTGGGCCCGAACAAAAACTCa \\\n",
    "    TGAAAAAGTGGCACCGAGTCGGTGCgCCTCTACCTGCTTCGGCCGATAAAGCCGACGATAATACTCCcaaaGCCCGCCgaaaGGCGGGCttttttttGAAGCTTGGGCCCGAACAAAAACTCa"
   ]
  },
  {
   "cell_type": "markdown",
   "metadata": {},
   "source": [
    "The reverse primer avoids overlapping with the mh library by 2 nucleotides."
   ]
  },
  {
   "cell_type": "markdown",
   "metadata": {},
   "source": []
  }
 ],
 "metadata": {
  "hide_input": false,
  "kernelspec": {
   "display_name": "Python 3",
   "language": "python",
   "name": "python3"
  },
  "language_info": {
   "codemirror_mode": {
    "name": "ipython",
    "version": 3
   },
   "file_extension": ".py",
   "mimetype": "text/x-python",
   "name": "python",
   "nbconvert_exporter": "python",
   "pygments_lexer": "ipython3",
   "version": "3.6.0"
  }
 },
 "nbformat": 4,
 "nbformat_minor": 2
}
