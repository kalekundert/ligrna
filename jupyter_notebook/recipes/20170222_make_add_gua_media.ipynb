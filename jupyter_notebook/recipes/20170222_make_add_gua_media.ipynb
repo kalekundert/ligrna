{
 "cells": [
  {
   "cell_type": "markdown",
   "metadata": {},
   "source": [
    "### Making MEK and MEKAG media"
   ]
  },
  {
   "cell_type": "markdown",
   "metadata": {},
   "source": [
    "1. Mix all EZ media components, except the ACGU mix, along with 10x ATC and Carb and Chlor.  Bring to 900 mL.\n",
    "\n",
    "2. Split into 2 450 mL portions.  To the first portion, add 5 mL 50 mM adenine in 250 mM NaOH and 5 mL 50 mM guanine in 250 mM, then bring to 500 mL.  To the second portion, just bring to 500 mL.\n",
    "\n",
    "3. Sterile filter both medias.\n",
    "\n",
    "4. Make 6 50 mL aliquots and ~200 2 mL aliquots of each media."
   ]
  }
 ],
 "metadata": {
  "kernelspec": {
   "display_name": "Python 3",
   "language": "python",
   "name": "python3"
  },
  "language_info": {
   "codemirror_mode": {
    "name": "ipython",
    "version": 3
   },
   "file_extension": ".py",
   "mimetype": "text/x-python",
   "name": "python",
   "nbconvert_exporter": "python",
   "pygments_lexer": "ipython3",
   "version": "3.6.0"
  }
 },
 "nbformat": 4,
 "nbformat_minor": 2
}
